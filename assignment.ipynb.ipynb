{
  "nbformat": 4,
  "nbformat_minor": 0,
  "metadata": {
    "colab": {
      "provenance": []
    },
    "kernelspec": {
      "name": "python3",
      "display_name": "Python 3"
    },
    "language_info": {
      "name": "python"
    }
  },
  "cells": [
    {
      "cell_type": "code",
      "source": [],
      "metadata": {
        "id": "2b6gNZy5YV5Y"
      },
      "execution_count": null,
      "outputs": []
    },
    {
      "cell_type": "markdown",
      "source": [],
      "metadata": {
        "id": "q-B4zLuaYWUI"
      }
    },
    {
      "cell_type": "markdown",
      "source": [
        "1. What is python, and why is it popular?\n",
        "-  Python is a high-level, interpreted programming language known for its simple, easy-to-read syntax. It was created by Guido van Rossum and first released in 1991.\n",
        "\n",
        "Key features that make Python popular:\n",
        "\n",
        "- Readable and clean syntax\n",
        "- Extensive libraries and frameworks\n",
        "- Portable and cross-platform\n",
        "- Vast community and resources\n",
        "- Support for automation and scripting\n",
        "\n",
        "2. What is an interpreter in python?\n",
        "-  An interpreter is a program that reads and executes code line by line, instead of compiling the whole program at once like a compiler does.\n",
        "\n",
        " Example:- print(\"Hello\")\n",
        "           print(5 + 3)\n",
        "\n",
        "3. What are pre-defined keywords in python?\n",
        "-  Pre-defined keywords in Python are reserved words that have special meaning to the Python interpreter. You cannot use them as variable names, function names, or identifiers because they are part of the Python language syntax.\n",
        "\n",
        "4. Can keywords be used as variable names?\n",
        "-  Python keywords are reserved words that have special meaning in the language. Using them as variable names will confuse the interpreter and cause a syntax error.\n",
        "\n",
        "Example of invalid code:- if = 5         #  Invalid! \"if\" is a keyword\n",
        "                          print(if)\n",
        "\n",
        "5. What is mutability in python?\n",
        "-  In Python, mutability describes the ability of an object to be changed in place.\n",
        "\n",
        "- If it can be changed, it’s called mutable.\n",
        "- If it cannot be changed, it’s called immutable.\n",
        "\n",
        "6. Why are lists mutable, but tuple are immutable?\n",
        "-  Reason:\n",
        "\n",
        "- Lists are designed for dynamic data — data that can grow, shrink, or change.\n",
        "- You can add, remove, or update elements inside a list.\n",
        "- They store references to objects, and Python allows modifying the list structure.\n",
        "\n",
        " Example:- my_list = [1, 2, 3]\n",
        "           my_list[0] = 100       # Change value\n",
        "           my_list.append(4)      # Add new value\n",
        "           print(my_list)         # Output: [100, 2, 3, 4]\n",
        "\n",
        "7. What is the difference between \"==\" and \"is\" operators in python?\n",
        "-    == (Equality Operator)\n",
        "Checks if two variables have the same value.\n",
        "\n",
        "Even if they are two different objects in memory, it only looks at what’s inside.\n",
        "\n",
        "Example:  a = [1, 2, 3]\n",
        "          b = [1, 2, 3]\n",
        "\n",
        "print(a == b)  # True (same values)\n",
        "\n",
        "-   is (Identity Operator)\n",
        "Checks if two variables refer to the exact same object in memory.\n",
        "\n",
        "True only if both variables point to the same memory location.\n",
        "\n",
        " Example: a = [1, 2, 3]\n",
        "          b = [1, 2, 3]\n",
        "\n",
        "print(a is b)  #  False (different objects, same values)\n",
        "\n",
        "8. What are logical operators in python?\n",
        "-  Logical operators in Python are used to combine multiple conditions (boolean expressions) and return a True or False result.\n",
        "\n",
        "Operator\t     Name\t               Description\n",
        "and    \t      Logical AND\t       True if both conditions are True\n",
        "or\t          Logical OR\t       True if at least one condition is True\n",
        "not\t          Logical NOT\t       Reverses the truth value\n",
        "\n",
        "9. What is type casting in python?\n",
        "-  Type casting means converting one data type to another — for example, converting a string to an integer, or a float to a string.\n",
        "\n",
        "Two Types of Type Casting:\n",
        "\n",
        "1. Implicit Type Casting (Automatic by Python)\n",
        "Python automatically converts one type to another when needed.\n",
        "\n",
        "2. Explicit Type Casting (Manual conversion)\n",
        "You manually convert using Python functions like:\n",
        "\n",
        "int(), float(), str(), bool(), etc.\n",
        "\n",
        "10. What is the difference between implicit and explicit type casting?\n",
        "-   Implicit Type Casting (Automatic)\n",
        "    Definition:\n",
        "Python automatically converts one data type to another without user involvement, when it’s safe to do so.\n",
        "\n",
        "Example: a = 10      # int\n",
        "         b = 2.5     # float\n",
        "         c = a + b\n",
        "         print(c)            # Output: 12.5\n",
        "         print(type(c))      # Output: <class 'float'>\n",
        "\n",
        "     Explicit Type Casting (Manual)\n",
        "    Definition:\n",
        "You manually convert one type into another using functions like int(), float(), str(), etc.\n",
        "\n",
        "Example: a = \"5\"\n",
        "         b = int(a)     # Manually converting string to int\n",
        "         print(b + 2)   # Output: 7\n",
        "\n",
        "11. What is the purpose of conditional statements in python?\n",
        "-   Conditional statements allow you to run certain parts of your code only if specific conditions are true.\n",
        "\n",
        "They help the program decide what to do next based on values, inputs, or situations.\n",
        "\n",
        "  Purpose of Conditional Statements:\n",
        "- Control the flow of your program\n",
        "\n",
        "- Execute different code based on conditions\n",
        "\n",
        "- Make your programs dynamic and interactive    \n",
        "\n",
        "12. How does the elif statement work?\n",
        "-   The elif statement (short for \"else if\") is used to check multiple conditions in a Python program after the initial if condition.\n",
        "\n",
        " Basic syntax:-\n",
        "  if condition1:\n",
        "    # Block A\n",
        "elif condition2:\n",
        "    # Block B\n",
        "elif condition3:\n",
        "    # Block C\n",
        "else:\n",
        "    # Block D\n",
        "      \n",
        "13. What is the difference between for and while loops?\n",
        "-    for Loop – Used for Known Iterations\n",
        "A for loop is used when you know exactly how many times you want to repeat something.\n",
        "\n",
        " Example: for i in range(5):\n",
        "          print(i)\n",
        "\n",
        "     while Loop – Used for Unknown Iterations\n",
        "A while loop is used when you don’t know in advance how many times to loop. It runs as long as a condition is true.\n",
        "\n",
        " Example: i = 0\n",
        "           while i < 5:\n",
        "    print(i)\n",
        "   i += 1\n",
        "\n",
        "14. Describe a scenarion where a while loop is more suitable than a for loop.\n",
        "-    correct_password = \"python123\"\n",
        "user_input = \"\"\n",
        "\n",
        "while user_input != correct_password:\n",
        "    user_input = input(\"Enter your password: \")\n",
        "\n",
        "print(\"Access granted!\")\n",
        "\n",
        "\n",
        "    \n",
        "\n",
        "\n",
        "\n"
      ],
      "metadata": {
        "id": "tuRC2gYEYZO-"
      }
    },
    {
      "cell_type": "code",
      "source": [
        "# write a python code to print\"Hello World\"\n",
        "\n",
        "print(\"Hello World\")"
      ],
      "metadata": {
        "colab": {
          "base_uri": "https://localhost:8080/"
        },
        "id": "zraVgRpoYxL_",
        "outputId": "07b0ff29-09a9-4538-f1b0-2768a8c3c280"
      },
      "execution_count": 7,
      "outputs": [
        {
          "output_type": "stream",
          "name": "stdout",
          "text": [
            "Hello World\n"
          ]
        }
      ]
    },
    {
      "cell_type": "code",
      "source": [
        "# write a python program that display your name and age.\n",
        "\n",
        "\n",
        "\n",
        "name = \"Priyanshika Raturi\"\n",
        "age = 21\n",
        "\n",
        "print(\"My name is\", name)\n",
        "print(\"I am\", age, \"years old\")\n",
        "\n"
      ],
      "metadata": {
        "colab": {
          "base_uri": "https://localhost:8080/"
        },
        "id": "OIkO-8-XZgyo",
        "outputId": "7e977db6-25ef-498e-d925-b2f4726b2764"
      },
      "execution_count": 8,
      "outputs": [
        {
          "output_type": "stream",
          "name": "stdout",
          "text": [
            "My name is Priyanshika Raturi\n",
            "I am 21 years old\n"
          ]
        }
      ]
    },
    {
      "cell_type": "code",
      "source": [
        "# write a code to print all the pre-defined keywords in python using the keyword library.\n",
        "import keyword\n",
        "\n",
        "# Get the list of all Python keywords\n",
        "keywords_list = keyword.kwlist\n",
        "\n",
        "# Print the keywords\n",
        "print(\"Python Keywords:\")\n",
        "for word in keywords_list:\n",
        "    print(word)\n"
      ],
      "metadata": {
        "colab": {
          "base_uri": "https://localhost:8080/"
        },
        "id": "tN37mubQZzSx",
        "outputId": "52b2eb96-e5d4-402e-db03-5d85b2cc32a5"
      },
      "execution_count": 9,
      "outputs": [
        {
          "output_type": "stream",
          "name": "stdout",
          "text": [
            "Python Keywords:\n",
            "False\n",
            "None\n",
            "True\n",
            "and\n",
            "as\n",
            "assert\n",
            "async\n",
            "await\n",
            "break\n",
            "class\n",
            "continue\n",
            "def\n",
            "del\n",
            "elif\n",
            "else\n",
            "except\n",
            "finally\n",
            "for\n",
            "from\n",
            "global\n",
            "if\n",
            "import\n",
            "in\n",
            "is\n",
            "lambda\n",
            "nonlocal\n",
            "not\n",
            "or\n",
            "pass\n",
            "raise\n",
            "return\n",
            "try\n",
            "while\n",
            "with\n",
            "yield\n"
          ]
        }
      ]
    },
    {
      "cell_type": "code",
      "source": [
        "# write a program that checks if a given word is a python keyword.\n",
        "\n",
        "import keyword\n",
        "\n",
        "# Ask the user for a word\n",
        "word = input(\"Enter a word: \")\n",
        "\n",
        "# Check if it's a keyword\n",
        "if keyword.iskeyword(word):\n",
        "    print(f\"'{word}' is a Python keyword.\")\n",
        "else:\n",
        "    print(f\"'{word}' is NOT a Python keyword.\")\n"
      ],
      "metadata": {
        "colab": {
          "base_uri": "https://localhost:8080/"
        },
        "id": "Td3GgGfwaJnf",
        "outputId": "273141d1-2a4a-4924-bc14-6bed24a9cea3"
      },
      "execution_count": 10,
      "outputs": [
        {
          "output_type": "stream",
          "name": "stdout",
          "text": [
            "Enter a word: while\n",
            "'while' is a Python keyword.\n"
          ]
        }
      ]
    },
    {
      "cell_type": "code",
      "source": [
        "# write a function to demonstrate the behavior of mutable and immutable arguments.\n",
        "\n",
        "# Function to modify arguments\n",
        "def modify_data(num, num_list):\n",
        "    print(\"Inside function before change:\")\n",
        "    print(\"num =\", num)\n",
        "    print(\"num_list =\", num_list)\n",
        "\n",
        "    # Try changing the immutable integer\n",
        "    num += 10\n",
        "\n",
        "    # Try changing the mutable list\n",
        "    num_list.append(100)\n",
        "\n",
        "    print(\"Inside function after change:\")\n",
        "    print(\"num =\", num)\n",
        "    print(\"num_list =\", num_list)\n",
        "\n",
        "# Immutable variable\n",
        "x = 50\n",
        "\n",
        "# Mutable variable\n",
        "my_list = [10, 20, 30]\n",
        "\n",
        "# Call the function\n",
        "modify_data(x, my_list)\n",
        "\n",
        "print(\"\\nOutside function after calling:\")\n",
        "print(\"x =\", x)              # unchanged (immutable)\n",
        "print(\"my_list =\", my_list)  # changed (mutable)"
      ],
      "metadata": {
        "colab": {
          "base_uri": "https://localhost:8080/"
        },
        "id": "24AEVQ9dagkb",
        "outputId": "22b78c1a-fe0c-4a3e-83d3-9ec635f6e09c"
      },
      "execution_count": 11,
      "outputs": [
        {
          "output_type": "stream",
          "name": "stdout",
          "text": [
            "Inside function before change:\n",
            "num = 50\n",
            "num_list = [10, 20, 30]\n",
            "Inside function after change:\n",
            "num = 60\n",
            "num_list = [10, 20, 30, 100]\n",
            "\n",
            "Outside function after calling:\n",
            "x = 50\n",
            "my_list = [10, 20, 30, 100]\n"
          ]
        }
      ]
    },
    {
      "cell_type": "code",
      "source": [
        "# write a program that performs basic arithmetic operations on two user-input numbers.\n",
        "\n",
        "  # Get input from user\n",
        "num1 = float(input(\"Enter the first number: \"))\n",
        "num2 = float(input(\"Enter the second number: \"))\n",
        "\n",
        "# Perform arithmetic operations\n",
        "print(\"\\nResults:\")\n",
        "print(\"Addition:\", num1 + num2)\n",
        "print(\"Subtraction:\", num1 - num2)\n",
        "print(\"Multiplication:\", num1 * num2)\n",
        "\n",
        "# To avoid division by zero\n",
        "if num2 != 0:\n",
        "    print(\"Division:\", num1 / num2)\n",
        "    print(\"Modulus:\", num1 % num2)\n",
        "else:\n",
        "    print(\"Division and modulus not possible (division by zero).\")\n"
      ],
      "metadata": {
        "colab": {
          "base_uri": "https://localhost:8080/"
        },
        "id": "d3khSCxDbHQz",
        "outputId": "1719c72e-b54d-4f92-cd2d-08fec390eb2b"
      },
      "execution_count": 12,
      "outputs": [
        {
          "output_type": "stream",
          "name": "stdout",
          "text": [
            "Enter the first number: 20\n",
            "Enter the second number: 10\n",
            "\n",
            "Results:\n",
            "Addition: 30.0\n",
            "Subtraction: 10.0\n",
            "Multiplication: 200.0\n",
            "Division: 2.0\n",
            "Modulus: 0.0\n"
          ]
        }
      ]
    },
    {
      "cell_type": "code",
      "source": [
        "# write a program to demonstrate the use of logical operations.\n",
        "\n",
        "# Define some variables\n",
        "a = True\n",
        "b = False\n",
        "\n",
        "# Demonstrate logical AND\n",
        "print(\"a and b =\", a and b)  # Only True if both are True\n",
        "\n",
        "# Demonstrate logical OR\n",
        "print(\"a or b =\", a or b)    # True if at least one is True\n",
        "\n",
        "# Demonstrate logical NOT\n",
        "print(\"not a =\", not a)      # Reverses the value\n",
        "print(\"not b =\", not b)"
      ],
      "metadata": {
        "colab": {
          "base_uri": "https://localhost:8080/"
        },
        "id": "ZLyHFMiHbc_o",
        "outputId": "f7d2ab28-11b2-4d87-98d7-909435657483"
      },
      "execution_count": 13,
      "outputs": [
        {
          "output_type": "stream",
          "name": "stdout",
          "text": [
            "a and b = False\n",
            "a or b = True\n",
            "not a = False\n",
            "not b = True\n"
          ]
        }
      ]
    },
    {
      "cell_type": "code",
      "source": [
        "# write a python program to convert user input from string to integer, float,and boolean types.\n",
        "\n",
        "# Get input from user\n",
        "user_input = input(\"Enter a value: \")\n",
        "\n",
        "# Convert to integer\n",
        "try:\n",
        "    int_value = int(user_input)\n",
        "    print(\"Integer:\", int_value)\n",
        "except ValueError:\n",
        "    print(\"Cannot convert to integer.\")\n",
        "\n",
        "# Convert to float\n",
        "try:\n",
        "    float_value = float(user_input)\n",
        "    print(\"Float:\", float_value)\n",
        "except ValueError:\n",
        "    print(\"Cannot convert to float.\")\n",
        "\n",
        "# Convert to boolean\n",
        "bool_value = bool(user_input)\n",
        "print(\"Boolean:\", bool_value)\n"
      ],
      "metadata": {
        "colab": {
          "base_uri": "https://localhost:8080/"
        },
        "id": "zDk-NdIubpNU",
        "outputId": "522a5c08-b02b-4355-87f0-b99dbd11cb2f"
      },
      "execution_count": 14,
      "outputs": [
        {
          "output_type": "stream",
          "name": "stdout",
          "text": [
            "Enter a value: 145.68\n",
            "Cannot convert to integer.\n",
            "Float: 145.68\n",
            "Boolean: True\n"
          ]
        }
      ]
    },
    {
      "cell_type": "code",
      "source": [
        "# write a code to demonstrate type casting with list elements.\n",
        "\n",
        "# Original list with string elements\n",
        "string_list = ['12', '45', '3.14', '0', '', '100']\n",
        "\n",
        "# Convert to integers\n",
        "int_list = []\n",
        "for item in string_list:\n",
        "    try:\n",
        "        int_list.append(int(float(item)))  # handles integers and decimals\n",
        "    except ValueError:\n",
        "        int_list.append(None)  # if conversion fails\n",
        "\n",
        "# Convert to floats\n",
        "float_list = []\n",
        "for item in string_list:\n",
        "    try:\n",
        "        float_list.append(float(item))\n",
        "    except ValueError:\n",
        "        float_list.append(None)\n",
        "\n",
        "# Convert to booleans\n",
        "bool_list = [bool(item) for item in string_list]\n",
        "\n",
        "# Print all results\n",
        "print(\"Original List:\", string_list)\n",
        "print(\"Integer List:\", int_list)\n",
        "print(\"Float List:\", float_list)\n",
        "print(\"Boolean List:\", bool_list)\n"
      ],
      "metadata": {
        "colab": {
          "base_uri": "https://localhost:8080/"
        },
        "id": "XYDQbOHTb8QQ",
        "outputId": "6c1c77ce-0960-4847-9a6a-3c4ae8d4ebbb"
      },
      "execution_count": 15,
      "outputs": [
        {
          "output_type": "stream",
          "name": "stdout",
          "text": [
            "Original List: ['12', '45', '3.14', '0', '', '100']\n",
            "Integer List: [12, 45, 3, 0, None, 100]\n",
            "Float List: [12.0, 45.0, 3.14, 0.0, None, 100.0]\n",
            "Boolean List: [True, True, True, True, False, True]\n"
          ]
        }
      ]
    },
    {
      "cell_type": "code",
      "source": [
        "# write a program that checks if a number is positive, negative, or zero.\n",
        "\n",
        "# Take input from user\n",
        "num = float(input(\"Enter a number: \"))\n",
        "\n",
        "# Check the sign of the number\n",
        "if num > 0:\n",
        "    print(\"The number is positive.\")\n",
        "elif num < 0:\n",
        "    print(\"The number is negative.\")\n",
        "else:\n",
        "    print(\"The number is zero.\")\n"
      ],
      "metadata": {
        "colab": {
          "base_uri": "https://localhost:8080/"
        },
        "id": "nLQ5yc79cOcy",
        "outputId": "4a1e3734-6ecb-4b33-be0e-bd82b264b564"
      },
      "execution_count": 16,
      "outputs": [
        {
          "output_type": "stream",
          "name": "stdout",
          "text": [
            "Enter a number: 6\n",
            "The number is positive.\n"
          ]
        }
      ]
    },
    {
      "cell_type": "code",
      "source": [
        "# write a for loop to print numbers from 1 to 10.\n",
        "\n",
        "for i in range(1, 11):\n",
        "    print(i)\n"
      ],
      "metadata": {
        "colab": {
          "base_uri": "https://localhost:8080/"
        },
        "id": "81t1o3ecc2Ng",
        "outputId": "4e3059de-b383-482e-ca9e-df936292979b"
      },
      "execution_count": 17,
      "outputs": [
        {
          "output_type": "stream",
          "name": "stdout",
          "text": [
            "1\n",
            "2\n",
            "3\n",
            "4\n",
            "5\n",
            "6\n",
            "7\n",
            "8\n",
            "9\n",
            "10\n"
          ]
        }
      ]
    },
    {
      "cell_type": "code",
      "source": [
        "# write a python program to find the sum of all even numbers between 1 and 50.\n",
        "\n",
        "# Initialize sum\n",
        "even_sum = 0\n",
        "\n",
        "# Loop through numbers 1 to 50\n",
        "for num in range(1, 51):\n",
        "    if num % 2 == 0:\n",
        "        even_sum += num\n",
        "\n",
        "# Print the result\n",
        "print(\"Sum of even numbers from 1 to 50 is:\", even_sum)\n"
      ],
      "metadata": {
        "colab": {
          "base_uri": "https://localhost:8080/"
        },
        "id": "Wpe09l95c7Ee",
        "outputId": "7f291c22-bc32-4024-8d2f-45040236d4e9"
      },
      "execution_count": 19,
      "outputs": [
        {
          "output_type": "stream",
          "name": "stdout",
          "text": [
            "Sum of even numbers from 1 to 50 is: 650\n"
          ]
        }
      ]
    },
    {
      "cell_type": "code",
      "source": [
        "# write a program to reverse a string using a while loop.\n",
        "\n",
        "# Take input from user\n",
        "text = input(\"Enter a string: \")\n",
        "\n",
        "# Initialize index and result\n",
        "index = len(text) - 1\n",
        "reversed_text = \"\"\n",
        "\n",
        "# Loop to reverse the string\n",
        "while index >= 0:\n",
        "    reversed_text += text[index]\n",
        "    index -= 1\n",
        "\n",
        "# Print the reversed string\n",
        "print(\"Reversed string:\", reversed_text)\n"
      ],
      "metadata": {
        "colab": {
          "base_uri": "https://localhost:8080/"
        },
        "id": "22r3j5usdNlL",
        "outputId": "babcdb8d-21fe-409f-ee56-6c890e2d0881"
      },
      "execution_count": 21,
      "outputs": [
        {
          "output_type": "stream",
          "name": "stdout",
          "text": [
            "Enter a string: python\n",
            "Reversed string: nohtyp\n"
          ]
        }
      ]
    },
    {
      "cell_type": "code",
      "source": [
        "# write a python program to calculate the factorial of a number provided by the user using a while loop.\n",
        "\n",
        "# Get input from the user\n",
        "num = int(input(\"Enter a number: \"))\n",
        "\n",
        "# Factorial is not defined for negative numbers\n",
        "if num < 0:\n",
        "    print(\"Factorial is not defined for negative numbers.\")\n",
        "else:\n",
        "    result = 1\n",
        "    i = 1\n",
        "\n",
        "    while i <= num:\n",
        "        result *= i\n",
        "        i += 1\n",
        "\n",
        "    print(f\"The factorial of {num} is {result}.\")\n"
      ],
      "metadata": {
        "colab": {
          "base_uri": "https://localhost:8080/"
        },
        "id": "oKnZvSqbdSZ9",
        "outputId": "f4722fc2-2cbf-44f4-b0e9-e35ab689725b"
      },
      "execution_count": 23,
      "outputs": [
        {
          "output_type": "stream",
          "name": "stdout",
          "text": [
            "Enter a number: 6\n",
            "The factorial of 6 is 720.\n"
          ]
        }
      ]
    }
  ]
}